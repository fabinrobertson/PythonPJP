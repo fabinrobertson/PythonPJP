{
  "nbformat": 4,
  "nbformat_minor": 0,
  "metadata": {
    "colab": {
      "name": "Lists.ipynb",
      "provenance": [],
      "authorship_tag": "ABX9TyNcIc5c/DQhZY50Nq5+uxTT",
      "include_colab_link": true
    },
    "kernelspec": {
      "name": "python3",
      "display_name": "Python 3"
    },
    "language_info": {
      "name": "python"
    }
  },
  "cells": [
    {
      "cell_type": "markdown",
      "metadata": {
        "id": "view-in-github",
        "colab_type": "text"
      },
      "source": [
        "<a href=\"https://colab.research.google.com/github/fabinrobertson/PythonPJP/blob/main/Lists.ipynb\" target=\"_parent\"><img src=\"https://colab.research.google.com/assets/colab-badge.svg\" alt=\"Open In Colab\"/></a>"
      ]
    },
    {
      "cell_type": "code",
      "execution_count": null,
      "metadata": {
        "colab": {
          "base_uri": "https://localhost:8080/"
        },
        "id": "M0qKyon0rx0G",
        "outputId": "56c9fdb8-8623-4a3c-cff5-c66d6e7f4c96"
      },
      "outputs": [
        {
          "output_type": "stream",
          "name": "stdout",
          "text": [
            "10 20 30 40 50 \n",
            "Third element:\t 30\n",
            "Fifth element:\t 50\n"
          ]
        }
      ],
      "source": [
        "MyList1=[10,20,30,40,50]\n",
        "for i in range(0,5):\n",
        "\tprint(MyList1[i], end=\" \")\n",
        "print(\"\\nThird element:\\t\",MyList1[2])\n",
        "print(\"Fifth element:\\t\",MyList1[4])"
      ]
    },
    {
      "cell_type": "code",
      "source": [
        "MyList1=[10,20,30,40,50]\n",
        "MyList1.append(60)\n",
        "print(MyList1)"
      ],
      "metadata": {
        "colab": {
          "base_uri": "https://localhost:8080/"
        },
        "id": "VlOKXmyfs2Wi",
        "outputId": "b6f48e98-e1ea-4d26-a645-3a2360b62d9a"
      },
      "execution_count": null,
      "outputs": [
        {
          "output_type": "stream",
          "name": "stdout",
          "text": [
            "[10, 20, 30, 40, 50, 60]\n"
          ]
        }
      ]
    },
    {
      "cell_type": "code",
      "source": [
        "MyList1=[10,20,30,40,50]\n",
        "MyList1.reverse()\n",
        "print(MyList1)"
      ],
      "metadata": {
        "colab": {
          "base_uri": "https://localhost:8080/"
        },
        "id": "d88f8YCcuZ6d",
        "outputId": "16fc9936-c40f-4eef-e3ee-552863dc88b1"
      },
      "execution_count": null,
      "outputs": [
        {
          "output_type": "stream",
          "name": "stdout",
          "text": [
            "[50, 40, 30, 20, 10]\n"
          ]
        }
      ]
    },
    {
      "cell_type": "code",
      "source": [
        "MyList1=[10,20,30,40,50]\n",
        "item=int(input(\"Enter the element:\\t\"))\n",
        "count=MyList1.count(item)\n",
        "print(\"No of times\",item,\"in MyList1:\\t\",count)\n"
      ],
      "metadata": {
        "colab": {
          "base_uri": "https://localhost:8080/"
        },
        "id": "n4g9hiCauol7",
        "outputId": "b9cd234c-6646-49c0-fe46-b63ed47402b7"
      },
      "execution_count": null,
      "outputs": [
        {
          "output_type": "stream",
          "name": "stdout",
          "text": [
            "Enter the element:\t20\n",
            "No of times 20 in MyList1:\t 3\n"
          ]
        }
      ]
    },
    {
      "cell_type": "code",
      "source": [
        "MyList1=[10,20,30,40,50]\n",
        "MyList2=[11,21]\n",
        "print(MyList1)\n",
        "print(MyList2)\n",
        "for i in range(0,len(MyList2)):\n",
        "  MyList1.insert(i,MyList2[i])\n",
        "print(\"List after insertion: \",MyList1)"
      ],
      "metadata": {
        "colab": {
          "base_uri": "https://localhost:8080/"
        },
        "id": "rtm-4StPv9_T",
        "outputId": "b4760eea-b5ed-4ba2-e9ae-e9ed4d08851e"
      },
      "execution_count": null,
      "outputs": [
        {
          "output_type": "stream",
          "name": "stdout",
          "text": [
            "[10, 20, 30, 40, 50]\n",
            "[11, 21]\n",
            "List after insertion:  [11, 21, 10, 20, 30, 40, 50]\n"
          ]
        }
      ]
    },
    {
      "cell_type": "code",
      "source": [
        "MyList2=[11,21]\n",
        "print(MyList2)\n",
        "item=int(input(\"Enter new element:\\t\"))\n",
        "MyList2.insert(1,item)\n",
        "print(\"New List: \",MyList2)"
      ],
      "metadata": {
        "colab": {
          "base_uri": "https://localhost:8080/"
        },
        "id": "d-4vvOSPx95k",
        "outputId": "bd5196eb-6924-4691-b216-04d47d7af05d"
      },
      "execution_count": null,
      "outputs": [
        {
          "output_type": "stream",
          "name": "stdout",
          "text": [
            "[11, 21]\n",
            "Enter new element:\t36\n",
            "New List:  [11, 36, 21]\n"
          ]
        }
      ]
    },
    {
      "cell_type": "code",
      "source": [
        "MyList1=[10,20,30,40,50]\n",
        "print(MyList1)\n",
        "index=int(input(\"Enter index of element to be deleted: \"))\n",
        "MyList1.pop(index-1)\n",
        "print(\"List after removal: \",MyList1)"
      ],
      "metadata": {
        "colab": {
          "base_uri": "https://localhost:8080/"
        },
        "id": "0QN6g7JZ2Hum",
        "outputId": "ecd13fc5-1622-44f4-f087-103486e1d996"
      },
      "execution_count": null,
      "outputs": [
        {
          "output_type": "stream",
          "name": "stdout",
          "text": [
            "[10, 20, 30, 40, 50]\n",
            "Enter index of element to be deleted: 3\n",
            "List after removal:  [10, 20, 40, 50]\n"
          ]
        }
      ]
    },
    {
      "cell_type": "code",
      "source": [
        "MyList1=[10,20,30,10,40,10,50]\n",
        "print(MyList1)\n",
        "item=int(input(\"Enter the element: \"))\n",
        "MyList1.remove(item)\n",
        "print(\"List after removal: \",MyList1)\n"
      ],
      "metadata": {
        "colab": {
          "base_uri": "https://localhost:8080/"
        },
        "id": "MjePbvOj3QGR",
        "outputId": "9548ee87-a56f-4ee0-ff1c-638e3b406b7b"
      },
      "execution_count": null,
      "outputs": [
        {
          "output_type": "stream",
          "name": "stdout",
          "text": [
            "[10, 20, 30, 10, 40, 10, 50]\n",
            "Enter the element: 10\n",
            "List after removal:  [20, 30, 10, 40, 10, 50]\n"
          ]
        }
      ]
    }
  ]
}