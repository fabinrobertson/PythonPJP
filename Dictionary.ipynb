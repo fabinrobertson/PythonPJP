{
  "nbformat": 4,
  "nbformat_minor": 0,
  "metadata": {
    "colab": {
      "name": "Dictionary.ipynb",
      "provenance": [],
      "authorship_tag": "ABX9TyOvaXaibRx3kmrysCP4WXhz",
      "include_colab_link": true
    },
    "kernelspec": {
      "name": "python3",
      "display_name": "Python 3"
    },
    "language_info": {
      "name": "python"
    }
  },
  "cells": [
    {
      "cell_type": "markdown",
      "metadata": {
        "id": "view-in-github",
        "colab_type": "text"
      },
      "source": [
        "<a href=\"https://colab.research.google.com/github/fabinrobertson/PythonPJP/blob/main/Dictionary.ipynb\" target=\"_parent\"><img src=\"https://colab.research.google.com/assets/colab-badge.svg\" alt=\"Open In Colab\"/></a>"
      ]
    },
    {
      "cell_type": "code",
      "execution_count": null,
      "metadata": {
        "colab": {
          "base_uri": "https://localhost:8080/"
        },
        "id": "LV5ivTnoFO3x",
        "outputId": "e589a8bb-1b2e-41bf-cb0e-f60552d6e69e"
      },
      "outputs": [
        {
          "output_type": "stream",
          "name": "stdout",
          "text": [
            "I/P:  {0: 10, 1: 20}\n",
            "O/P {0: 10, 1: 20, 2: 30}\n"
          ]
        }
      ],
      "source": [
        "Mydic1={0:10,1:20}\n",
        "print(\"I/P: \",Mydic1)\n",
        "Mydic1.update({2:30})\n",
        "print(\"O/P\",Mydic1)\n"
      ]
    },
    {
      "cell_type": "code",
      "source": [
        "dic1={1:10,2:20}\n",
        "dic2={3:30,4:40}\n",
        "dic3={5:50,6:60}\n",
        "dic4={}\n",
        "for i in (dic1,dic2,dic3):\n",
        "  dic4.update(i)\n",
        "print(dic4)"
      ],
      "metadata": {
        "colab": {
          "base_uri": "https://localhost:8080/"
        },
        "id": "8L5rY8A9Olq3",
        "outputId": "53ddb19a-5c5f-4fd6-b783-91a5f66d8300"
      },
      "execution_count": null,
      "outputs": [
        {
          "output_type": "stream",
          "name": "stdout",
          "text": [
            "{1: 10, 2: 20, 3: 30, 4: 40, 5: 50, 6: 60}\n"
          ]
        }
      ]
    },
    {
      "cell_type": "code",
      "source": [
        "Mydic1={1:10,2:20}\n",
        "key=int(input(\"Enter the key to be checked: \"))\n",
        "if key in Mydic1.keys():\n",
        "  print(\"The key \",key,\"is present\")\n",
        "  print(Mydic1)\n",
        "else:\n",
        "  print(\"The key\",key,\"is not present\")\n",
        "  print(Mydic1)"
      ],
      "metadata": {
        "colab": {
          "base_uri": "https://localhost:8080/"
        },
        "id": "h3apsdvNB1UO",
        "outputId": "73f805f7-aa17-4715-d4fc-c6e961d47db1"
      },
      "execution_count": null,
      "outputs": [
        {
          "output_type": "stream",
          "name": "stdout",
          "text": [
            "Enter the key to be checked: 1\n",
            "Yes the key  1 is present\n",
            "{1: 10, 2: 20}\n"
          ]
        }
      ]
    },
    {
      "cell_type": "code",
      "source": [
        "Mydict1={1:10, 2:20}\n",
        "print(\"keys: \")\n",
        "for key in Mydic1.keys():\n",
        "  print(key,end=\" \")\n",
        "print(\"\\nvalues:\")\n",
        "for value in Mydic1.values():\n",
        "  print(value,end=\" \")\n",
        "print(\"\\nkeys and values\")\n",
        "for item in Mydic1.items():\n",
        "  print(item)\n"
      ],
      "metadata": {
        "colab": {
          "base_uri": "https://localhost:8080/"
        },
        "id": "veW4W-oWEexO",
        "outputId": "529cea7c-bf82-41f5-9263-74fd8a8f4862"
      },
      "execution_count": null,
      "outputs": [
        {
          "output_type": "stream",
          "name": "stdout",
          "text": [
            "keys: \n",
            "1 2 \n",
            "values:\n",
            "10 20 \n",
            "keys and values\n",
            "(1, 10)\n",
            "(2, 20)\n"
          ]
        }
      ]
    },
    {
      "cell_type": "code",
      "source": [
        "Mydict2={}\n",
        "for i in range(1,16):\n",
        "  Mydict2.update({i:i*i})\n",
        "print(Mydict2)"
      ],
      "metadata": {
        "colab": {
          "base_uri": "https://localhost:8080/"
        },
        "id": "DIKbfSVgGS2R",
        "outputId": "6e586ed8-d4df-4bc1-d967-6ccd0a5bfa5c"
      },
      "execution_count": null,
      "outputs": [
        {
          "output_type": "stream",
          "name": "stdout",
          "text": [
            "{1: 1, 2: 4, 3: 9, 4: 16, 5: 25, 6: 36, 7: 49, 8: 64, 9: 81, 10: 100, 11: 121, 12: 144, 13: 169, 14: 196, 15: 225}\n"
          ]
        }
      ]
    },
    {
      "cell_type": "code",
      "source": [
        "Mydict={1: 1, 2: 4, 3: 9, 4: 16, 5: 25}\n",
        "sum=0\n",
        "for value in Mydict.values():\n",
        "  sum=sum+value\n",
        "print(\"sum of all values: \",sum)"
      ],
      "metadata": {
        "colab": {
          "base_uri": "https://localhost:8080/"
        },
        "id": "5A0gurdfHel2",
        "outputId": "145ccd8a-0c01-4b02-f661-0f5eb770f7af"
      },
      "execution_count": null,
      "outputs": [
        {
          "output_type": "stream",
          "name": "stdout",
          "text": [
            "sum of all values:  55\n"
          ]
        }
      ]
    }
  ]
}