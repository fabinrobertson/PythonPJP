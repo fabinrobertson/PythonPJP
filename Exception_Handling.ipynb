{
  "nbformat": 4,
  "nbformat_minor": 0,
  "metadata": {
    "colab": {
      "name": "Exception Handling.ipynb",
      "provenance": [],
      "collapsed_sections": [],
      "authorship_tag": "ABX9TyP6s5jSnH7eN9XO9WpS9Alh",
      "include_colab_link": true
    },
    "kernelspec": {
      "name": "python3",
      "display_name": "Python 3"
    },
    "language_info": {
      "name": "python"
    }
  },
  "cells": [
    {
      "cell_type": "markdown",
      "metadata": {
        "id": "view-in-github",
        "colab_type": "text"
      },
      "source": [
        "<a href=\"https://colab.research.google.com/github/fabinrobertson/PythonPJP/blob/main/Exception_Handling.ipynb\" target=\"_parent\"><img src=\"https://colab.research.google.com/assets/colab-badge.svg\" alt=\"Open In Colab\"/></a>"
      ]
    },
    {
      "cell_type": "code",
      "execution_count": null,
      "metadata": {
        "id": "uUBF4o3hgI5-"
      },
      "outputs": [],
      "source": [
        "a=int(input(\"Enter first number: \"))\n",
        "b=int(input(\"Enter second number: \"))\n",
        "try:\n",
        "\tdiv=a/b\n",
        "\tprint(f\"div = {div}\")\n",
        "except ZeroDivisionError:\n",
        "\tprint(\"ZerodivisionError Occured and Handled\")\n",
        "\t\n",
        "except NameError:\n",
        "\tprint(\"NameError Occured and Handled\")"
      ]
    },
    {
      "cell_type": "code",
      "source": [
        "def prime(fnum):\n",
        "  for i in range(2,fnum):\n",
        "    if(fnum%i==0):\n",
        "      flag = 0\n",
        "      break\n",
        "    else:\n",
        "      flag = 1\n",
        "  if(flag==0):\n",
        "    print(f\"{fnum} is not prime\")\n",
        "  else:\n",
        "    print(f\"{fnum} is prime\")\n",
        "    \n",
        "    \n",
        "def integer(fnum):\n",
        "\ttry:\n",
        "\t\tn=int(fnum)\n",
        "\t\tprime(n)\n",
        "\texcept ValueError:\n",
        "\t\tprint(\"ValueError Occured and Handled\")\n",
        "\n",
        "\n",
        "n = input(\"Enter a number: \")\n",
        "num = integer(n)\n"
      ],
      "metadata": {
        "id": "XSk-o2ze5O5K"
      },
      "execution_count": null,
      "outputs": []
    },
    {
      "cell_type": "code",
      "source": [
        "filename=input(\"enter the filename: \")\n",
        "try:\n",
        "\twith open(filename) as myfile:\n",
        "\t\tprint(myfile.read())\n",
        "except FileNotFoundError:\n",
        "\tprint(\"Error occured and handled\")"
      ],
      "metadata": {
        "id": "DkFccOYa5PvX"
      },
      "execution_count": null,
      "outputs": []
    },
    {
      "cell_type": "code",
      "source": [
        "intlist=[1,2,-3,-4,5,6,-7,-8,9,-10]\n",
        "index=int(input(\"Enter the index number: \"))\n",
        "try:\t\n",
        "\tif(intlist[index]<0):\n",
        "\t\tprint(f\"{intlist[index]} is negative\")\n",
        "\telse:\n",
        "\t\tprint(f\"{intlist[index]} is positive\")\n",
        "except IndexError:\n",
        "\tprint(\"IndexError occured and handled\")\n",
        "\tprint(\"Input index number in range(0,10)\")"
      ],
      "metadata": {
        "id": "0Fh4yjjE9T9n"
      },
      "execution_count": null,
      "outputs": []
    }
  ]
}