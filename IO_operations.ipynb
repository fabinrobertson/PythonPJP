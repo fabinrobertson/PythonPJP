{
  "nbformat": 4,
  "nbformat_minor": 0,
  "metadata": {
    "colab": {
      "name": "IO operations.ipynb",
      "provenance": [],
      "authorship_tag": "ABX9TyPUNxfg/DE1N6cCbcocPkYS",
      "include_colab_link": true
    },
    "kernelspec": {
      "name": "python3",
      "display_name": "Python 3"
    },
    "language_info": {
      "name": "python"
    }
  },
  "cells": [
    {
      "cell_type": "markdown",
      "metadata": {
        "id": "view-in-github",
        "colab_type": "text"
      },
      "source": [
        "<a href=\"https://colab.research.google.com/github/fabinrobertson/PythonPJP/blob/main/IO_operations.ipynb\" target=\"_parent\"><img src=\"https://colab.research.google.com/assets/colab-badge.svg\" alt=\"Open In Colab\"/></a>"
      ]
    },
    {
      "cell_type": "code",
      "execution_count": null,
      "metadata": {
        "id": "ZRCoE1BSK_qr"
      },
      "outputs": [],
      "source": [
        "#text.txt\n",
        "Files are named locations on disk to store related information. They are used to permanently store data in a non-volatile memory (e.g. hard disk).\n",
        "Since Random Access Memory (RAM) is volatile (which loses its data when the computer is turned off), we use files for future use of the data by permanently storing them.\n",
        "When we want to read from or write to a file, we need to open it first. When we are done, it needs to be closed so that the resources that are tied with the file are freed.\n",
        "Hence, in Python, a file operation takes place in the following order:\n",
        "1.Open a file\n",
        "2.Read or write (perform operation)\n",
        "3.Close the file\n"
      ]
    },
    {
      "cell_type": "code",
      "source": [
        "myfile=open('text.txt','r')\n",
        "print(myfile.read())\n",
        "myfile.close()"
      ],
      "metadata": {
        "id": "cdzX3x0BLIaQ"
      },
      "execution_count": null,
      "outputs": []
    },
    {
      "cell_type": "code",
      "source": [
        "myfile=open('text.txt','r')\n",
        "n=int(input(\"Enter the number of lines to print: \"))\n",
        "for i in range(n):\n",
        " print(myfile.readline())\n",
        "myfile.close()"
      ],
      "metadata": {
        "id": "2iprYwljR8Qj"
      },
      "execution_count": null,
      "outputs": []
    },
    {
      "cell_type": "code",
      "source": [
        "myfile=open(\"text.txt\",\"a\")\n",
        "string=input(\"enter string to append: \")\n",
        "myfile.write(string)\n",
        "myfile.close()"
      ],
      "metadata": {
        "id": "oEN_Mlx1TKdI"
      },
      "execution_count": null,
      "outputs": []
    },
    {
      "cell_type": "code",
      "source": [
        "myfile=open('text.txt','r')\n",
        "lines=myfile.readlines()\n",
        "print(lines)\n",
        "myfile.close()"
      ],
      "metadata": {
        "id": "HWgcKyUTWP5Z"
      },
      "execution_count": null,
      "outputs": []
    },
    {
      "cell_type": "code",
      "source": [
        "\n",
        "with open(\"text.txt\") as myfile:\n",
        "\twords=myfile.read().split()\n",
        "\t#print(words)\n",
        "\tmaxlen=0\n",
        "\tmaxwd=' '\n",
        "\tfor i in words:\n",
        "\t\tif(len(i)>maxlen):\n",
        "\t\t\tmaxlen = len(i)\n",
        "\t\t\tmaxwd = i\n",
        "\tprint(f\"longest word ={maxwd},number of letters ={maxlen}\")\n",
        "\t"
      ],
      "metadata": {
        "id": "6vmWoDq4fINH"
      },
      "execution_count": null,
      "outputs": []
    },
    {
      "cell_type": "code",
      "source": [
        "with open(\"text.txt\") as myfile:\n",
        "\twords=myfile.read().split()\n",
        "\tword=input(\"Enter word to find frequency: \")\n",
        "\tfreq=words.count(word)\n",
        "\tprint(f\"frequency of {word} = {freq}\")\n",
        "\t"
      ],
      "metadata": {
        "id": "HaECikL_fCYd"
      },
      "execution_count": null,
      "outputs": []
    }
  ]
}