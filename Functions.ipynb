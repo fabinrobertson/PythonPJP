{
  "nbformat": 4,
  "nbformat_minor": 0,
  "metadata": {
    "colab": {
      "name": "Functions.ipynb",
      "provenance": [],
      "authorship_tag": "ABX9TyP8cM2lyac738DfvO7jB5X+",
      "include_colab_link": true
    },
    "kernelspec": {
      "name": "python3",
      "display_name": "Python 3"
    },
    "language_info": {
      "name": "python"
    }
  },
  "cells": [
    {
      "cell_type": "markdown",
      "metadata": {
        "id": "view-in-github",
        "colab_type": "text"
      },
      "source": [
        "<a href=\"https://colab.research.google.com/github/fabinrobertson/PythonPJP/blob/main/Functions.ipynb\" target=\"_parent\"><img src=\"https://colab.research.google.com/assets/colab-badge.svg\" alt=\"Open In Colab\"/></a>"
      ]
    },
    {
      "cell_type": "code",
      "execution_count": null,
      "metadata": {
        "colab": {
          "base_uri": "https://localhost:8080/"
        },
        "id": "yuP5Y5paLEXx",
        "outputId": "0d7529d1-3e79-43d9-f3e9-077976002d0d"
      },
      "outputs": [
        {
          "output_type": "stream",
          "name": "stdout",
          "text": [
            "list =  [8, 2, 3, 0, 7]\n",
            "sum =  20\n"
          ]
        }
      ],
      "source": [
        "def sumFunct(myList):\n",
        "  sum=0\n",
        "  for i in myList:\n",
        "    sum=sum+i\n",
        "  return sum\n",
        "\n",
        "myList=[8,2,3,0,7]\n",
        "sum=sumFunct(myList)\n",
        "print(\"list = \",myList)\n",
        "print(\"sum = \",sum)"
      ]
    },
    {
      "cell_type": "code",
      "source": [
        "def reverse(fstring):\n",
        "  return fstring[::-1]\n",
        "\n",
        "string=input(\"Enter a string: \").strip()\n",
        "newstring=reverse(string)\n",
        "print(\"i/p: \",string)\n",
        "print(\"o/p: \",newstring)"
      ],
      "metadata": {
        "colab": {
          "base_uri": "https://localhost:8080/"
        },
        "id": "UDJ05HdjTsUA",
        "outputId": "392ff323-a917-4b72-a906-1ddb8dd82330"
      },
      "execution_count": null,
      "outputs": [
        {
          "output_type": "stream",
          "name": "stdout",
          "text": [
            "Enter a string: 1234abcd\n",
            "i/p:  1234abcd\n",
            "o/p:  dcba4321\n"
          ]
        }
      ]
    },
    {
      "cell_type": "code",
      "source": [
        "def fact(num):\n",
        "  fact=1\n",
        "  for i in range(1,num+1):\n",
        "    fact=fact*i\n",
        "  return fact\n",
        "\n",
        "number=int(input(\"Enter the number: \"))\n",
        "factorial=fact(number)\n",
        "print(\"i/p: \",number)\n",
        "print(\"o/p: \",factorial)"
      ],
      "metadata": {
        "colab": {
          "base_uri": "https://localhost:8080/"
        },
        "id": "1v0LbbN8ZIDh",
        "outputId": "e35c72d4-fdd0-47a8-9e3a-35e4b2a5e8c0"
      },
      "execution_count": null,
      "outputs": [
        {
          "output_type": "stream",
          "name": "stdout",
          "text": [
            "Enter the number: 5\n",
            "i/p:  5\n",
            "o/p:  120\n"
          ]
        }
      ]
    },
    {
      "cell_type": "code",
      "source": [
        "def count(fstring):\n",
        "  clow=cup=0\n",
        "  for i in fstring:\n",
        "    if(i.islower()):\n",
        "      clow=clow+1\n",
        "    else:\n",
        "      cup=cup+1\n",
        "  print(f\"{cup} upper case letters\")\n",
        "  print(f\"{clow} lower case letters\")\n",
        "\n",
        "string=input(\"Enter a string: \").strip()\n",
        "count(string)"
      ],
      "metadata": {
        "colab": {
          "base_uri": "https://localhost:8080/"
        },
        "id": "bcMYA5taZ6aq",
        "outputId": "e4b7ccd6-2d2f-4c2a-afc1-47e88fd8c3a5"
      },
      "execution_count": null,
      "outputs": [
        {
          "output_type": "stream",
          "name": "stdout",
          "text": [
            "Enter a string: StaCK\n",
            "3 upper case letters\n",
            "2 lower case letters\n"
          ]
        }
      ]
    },
    {
      "cell_type": "code",
      "source": [
        "def evenFunct(myList):\n",
        "  even=[]\n",
        "  for i in myList:\n",
        "    if(i%2==0):\n",
        "      even.append(i)\n",
        "  return even\n",
        "\n",
        "myList=[1,2,3,4,5,6,7,8,9]\n",
        "even=evenFunct(myList)\n",
        "print(\"list = \",myList)\n",
        "print(\"even list = \",even)"
      ],
      "metadata": {
        "colab": {
          "base_uri": "https://localhost:8080/"
        },
        "id": "Zlra7_h2aiRi",
        "outputId": "5ca1611e-334a-47bb-d00b-e0a23c6f39e7"
      },
      "execution_count": null,
      "outputs": [
        {
          "output_type": "stream",
          "name": "stdout",
          "text": [
            "list =  [1, 2, 3, 4, 5, 6, 7, 8, 9]\n",
            "even list =  [2, 4, 6, 8]\n"
          ]
        }
      ]
    },
    {
      "cell_type": "code",
      "source": [
        "def prime(fnum):\n",
        "  for i in range(2,fnum):\n",
        "    if(fnum%i==0):\n",
        "      flag = 0\n",
        "      break\n",
        "    else:\n",
        "      flag = 1\n",
        "  if(flag==0):\n",
        "    print(f\"{fnum} is not prime\")\n",
        "  else:\n",
        "    print(f\"{fnum} is prime\")\n",
        "\n",
        "num=int(input(\"enter a number: \"))\n",
        "prime(num)"
      ],
      "metadata": {
        "colab": {
          "base_uri": "https://localhost:8080/"
        },
        "id": "9LmlCQVOa9Oi",
        "outputId": "e61df520-ffce-44aa-88e9-9212da121c7f"
      },
      "execution_count": null,
      "outputs": [
        {
          "output_type": "stream",
          "name": "stdout",
          "text": [
            "enter a number: 7\n",
            "7 is prime\n"
          ]
        }
      ]
    }
  ]
}