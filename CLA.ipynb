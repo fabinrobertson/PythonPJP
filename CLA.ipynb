{
  "nbformat": 4,
  "nbformat_minor": 0,
  "metadata": {
    "colab": {
      "name": "CLA.ipynb",
      "provenance": [],
      "authorship_tag": "ABX9TyOeYVl+6LW4ZqmLafmmKclO",
      "include_colab_link": true
    },
    "kernelspec": {
      "name": "python3",
      "display_name": "Python 3"
    },
    "language_info": {
      "name": "python"
    }
  },
  "cells": [
    {
      "cell_type": "markdown",
      "metadata": {
        "id": "view-in-github",
        "colab_type": "text"
      },
      "source": [
        "<a href=\"https://colab.research.google.com/github/fabinrobertson/PythonPJP/blob/main/CLA.ipynb\" target=\"_parent\"><img src=\"https://colab.research.google.com/assets/colab-badge.svg\" alt=\"Open In Colab\"/></a>"
      ]
    },
    {
      "cell_type": "code",
      "execution_count": null,
      "metadata": {
        "id": "b6yHbezuCkHE"
      },
      "outputs": [],
      "source": [
        "import sys\n",
        " \n",
        "print(\"\\nName of Python script:\", sys.argv[0])\n",
        " \n",
        "print(\"Arguments passed:\", end = \" \")\n",
        "for i in range(1, len(sys.argv)):\n",
        "    print(sys.argv[i], end = \" \")\n",
        "     \n",
        "Sum = 0\n",
        "for i in range(1, len(sys.argv)):\n",
        "    Sum = Sum + int(sys.argv[i])\n",
        "     \n",
        "print(\"\\nSum:\", Sum)"
      ]
    },
    {
      "cell_type": "code",
      "source": [
        "import sys\n",
        "\n",
        "\n",
        "for i in range(1,len(sys.argv)):\n",
        "\tprint(sys.argv[i],end=\" \")\n",
        "print(sys.argv[0])\n"
      ],
      "metadata": {
        "colab": {
          "base_uri": "https://localhost:8080/"
        },
        "id": "rMuPH0CtE_iC",
        "outputId": "b2ded4a2-4eb4-4f5c-a95c-a855dfc4ed97"
      },
      "execution_count": null,
      "outputs": [
        {
          "output_type": "stream",
          "name": "stdout",
          "text": [
            "-f /root/.local/share/jupyter/runtime/kernel-89c44eb4-c720-4765-80b3-1875829b40c5.json /usr/local/lib/python3.7/dist-packages/ipykernel_launcher.py\n"
          ]
        }
      ]
    },
    {
      "cell_type": "code",
      "source": [
        "import sys\n",
        "\n",
        "def prime(fnum):\n",
        "  for i in range(2,fnum):\n",
        "    if(fnum%i==0):\n",
        "      flag = 0\n",
        "      break\n",
        "    else:\n",
        "      flag = 1\n",
        "  if(flag==0):\n",
        "    return 0\n",
        "  else:\n",
        "    return fnum\n",
        "    \n",
        " \n",
        "print(\"Arguments passed:\", end = \" \")\n",
        "for i in range(1, len(sys.argv)):\n",
        "    print(sys.argv[i], end = \" \")\n",
        "     \n",
        "Sum = 0\n",
        "plist=[]\n",
        "for i in range(1, len(sys.argv)):\n",
        "    p=prime(int(sys.argv[i]))\n",
        "    Sum= Sum+p\n",
        "    if(p != 0):\n",
        "    \tplist.append(p)\n",
        "\n",
        "print(\"\\nprime numbers: \",plist)     \n",
        "print(\"Sum of prime numbers :\", Sum)"
      ],
      "metadata": {
        "id": "bvmmv_b7HqAB"
      },
      "execution_count": null,
      "outputs": []
    }
  ]
}