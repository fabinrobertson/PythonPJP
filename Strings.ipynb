{
  "nbformat": 4,
  "nbformat_minor": 0,
  "metadata": {
    "colab": {
      "name": "Strings.ipynb",
      "provenance": [],
      "authorship_tag": "ABX9TyOL0iw9RB7IJWBlw28zKw6w",
      "include_colab_link": true
    },
    "kernelspec": {
      "name": "python3",
      "display_name": "Python 3"
    },
    "language_info": {
      "name": "python"
    }
  },
  "cells": [
    {
      "cell_type": "markdown",
      "metadata": {
        "id": "view-in-github",
        "colab_type": "text"
      },
      "source": [
        "<a href=\"https://colab.research.google.com/github/fabinrobertson/PythonPJP/blob/main/Strings.ipynb\" target=\"_parent\"><img src=\"https://colab.research.google.com/assets/colab-badge.svg\" alt=\"Open In Colab\"/></a>"
      ]
    },
    {
      "cell_type": "code",
      "execution_count": null,
      "metadata": {
        "colab": {
          "base_uri": "https://localhost:8080/"
        },
        "id": "7lFfIUeR_8VF",
        "outputId": "b3d7a595-938a-48b0-e3d2-953581097823"
      },
      "outputs": [
        {
          "output_type": "stream",
          "name": "stdout",
          "text": [
            "Enter a string: StaCK\n",
            "3 upper case letters\n",
            "2 lower case letters\n"
          ]
        }
      ],
      "source": [
        "string = input(\"Enter a string: \").strip()\n",
        "clow=cup=0\n",
        "for i in string:\n",
        "  if(i.islower()):\n",
        "    clow=clow+1\n",
        "  else:\n",
        "    cup=cup+1\n",
        "print(f\"{cup} upper case letters\")\n",
        "print(f\"{clow} lower case letters\")\n"
      ]
    },
    {
      "cell_type": "code",
      "source": [
        "string = input(\"Enter a string: \").strip().lower()\n",
        "i=0\n",
        "j=-1\n",
        "while(i<=len(string)/2):\n",
        "  if(string[i]==string[j]):\n",
        "    flag=1\n",
        "    i=i+1\n",
        "    j=j-1\n",
        "  else:\n",
        "    flag=0\n",
        "    break\n",
        "if flag==1:\n",
        "  print(f\"{string} is palindrome\")\n",
        "else:\n",
        "  print(f\"{string} is not palindrome\")"
      ],
      "metadata": {
        "colab": {
          "base_uri": "https://localhost:8080/"
        },
        "id": "X71T0V_cWo5O",
        "outputId": "cc74002d-970c-4c03-aabb-ff23c6abe178"
      },
      "execution_count": null,
      "outputs": [
        {
          "output_type": "stream",
          "name": "stdout",
          "text": [
            "Enter a string: Madam\n",
            "madam is palindrome\n"
          ]
        }
      ]
    },
    {
      "cell_type": "code",
      "source": [
        "string = input(\"Enter a string: \").strip()\n",
        "if (len(string)>=2):\n",
        "  nstring = string[0:2]\n",
        "  print(len(string)*nstring)\n",
        "else:\n",
        "  print(\"length of string not >= 2\")"
      ],
      "metadata": {
        "colab": {
          "base_uri": "https://localhost:8080/"
        },
        "id": "SfusWv60YWb_",
        "outputId": "68f86744-d91e-44d2-b931-59236e0c259c"
      },
      "execution_count": null,
      "outputs": [
        {
          "output_type": "stream",
          "name": "stdout",
          "text": [
            "Enter a string: Messi\n",
            "MeMeMeMeMe\n"
          ]
        }
      ]
    },
    {
      "cell_type": "code",
      "source": [
        "string = input(\"Enter a string: \").strip()\n",
        "print(\"I/P: \",string)\n",
        "if((string[0]=='x') or (string[len(string)-1]=='x') or (string[0]=='x'and string[len(string)-1]=='x')):\n",
        "  print(\"O/P: \",string.replace(\"x\",\" \").strip())\n",
        "else:\n",
        "  print(\"O/P: \",string)"
      ],
      "metadata": {
        "colab": {
          "base_uri": "https://localhost:8080/"
        },
        "id": "NunDfmBRY6e6",
        "outputId": "11d7ff92-020c-4e31-c192-7af52e6cc695"
      },
      "execution_count": null,
      "outputs": [
        {
          "output_type": "stream",
          "name": "stdout",
          "text": [
            "Enter a string: xmas\n",
            "I/P:  xmas\n",
            "O/P:  mas\n"
          ]
        }
      ]
    },
    {
      "cell_type": "code",
      "source": [
        "string = input(\"Enter a string: \").strip()\n",
        "n = int(input(\"Enter n, number of repetitions: \"))\n",
        "if(0<=n<=len(string)):\n",
        "  nstring = string[len(string)-n:len(string)+1]\n",
        "  print(nstring*n)\n",
        "else:\n",
        "  print(\"n is not between 0 and length of string inclusive \")\n"
      ],
      "metadata": {
        "colab": {
          "base_uri": "https://localhost:8080/"
        },
        "id": "RUJ4V3x3b54W",
        "outputId": "a04c6c35-0e45-4388-a80d-f3664226d685"
      },
      "execution_count": null,
      "outputs": [
        {
          "output_type": "stream",
          "name": "stdout",
          "text": [
            "Enter a string: wipro\n",
            "Enter n, number of repetitions: 5\n",
            "wiprowiprowiprowiprowipro\n"
          ]
        }
      ]
    }
  ]
}