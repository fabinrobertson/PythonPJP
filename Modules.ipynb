{
  "nbformat": 4,
  "nbformat_minor": 0,
  "metadata": {
    "colab": {
      "name": "Modules.ipynb",
      "provenance": [],
      "collapsed_sections": [],
      "authorship_tag": "ABX9TyN1G8Ihiti8Ggf5n3gf18+0",
      "include_colab_link": true
    },
    "kernelspec": {
      "name": "python3",
      "display_name": "Python 3"
    },
    "language_info": {
      "name": "python"
    }
  },
  "cells": [
    {
      "cell_type": "markdown",
      "metadata": {
        "id": "view-in-github",
        "colab_type": "text"
      },
      "source": [
        "<a href=\"https://colab.research.google.com/github/fabinrobertson/PythonPJP/blob/main/Modules.ipynb\" target=\"_parent\"><img src=\"https://colab.research.google.com/assets/colab-badge.svg\" alt=\"Open In Colab\"/></a>"
      ]
    },
    {
      "cell_type": "code",
      "source": [
        "#math_module.py\n",
        "def add(a, b):\n",
        "\treturn a+b\n",
        " \n",
        " \t\n",
        "def sub(a, b):\n",
        "\treturn a-b\n",
        "\n",
        "\t\n",
        "def mul(a, b):\n",
        "\treturn a*b\n",
        "\t\n",
        "\n",
        "def div(a, b):\n",
        "\treturn a/b"
      ],
      "metadata": {
        "id": "9ewLWH5dkiEd"
      },
      "execution_count": null,
      "outputs": []
    },
    {
      "cell_type": "code",
      "source": [
        "#calculator.py\n",
        "import math_module as mm\n",
        "\n",
        "while True:\n",
        "\tprint(\"CALCULATOR:\\n1.Add\\n2.Sub\\n3.Mul\\n4.Div\\n5.Exit\")\n",
        "\tch=int(input(\"Enter your choice: \"))\n",
        "\tif ch==1:\n",
        "\t\ta=int(input(\"Enter first number: \"))\n",
        "\t\tb=int(input(\"Enter second number: \"))\n",
        "\t\tsum=mm.add(a,b)\n",
        "\t\tprint(f\"Sum = {sum}\")\n",
        "\telif ch==2:\n",
        "\t\ta=int(input(\"Enter first number: \"))\n",
        "\t\tb=int(input(\"Enter second number: \"))\n",
        "\t\tsub=mm.sub(a,b)\n",
        "\t\tprint(f\"Sub = {sub}\")\n",
        "\telif ch==3:\n",
        "\t\ta=int(input(\"Enter first number: \"))\n",
        "\t\tb=int(input(\"Enter second number: \"))\n",
        "\t\tmul=mm.mul(a,b)\n",
        "\t\tprint(f\"Mul = {mul}\")\n",
        "\telif ch==4:\n",
        "\t\ta=int(input(\"Enter first number: \"))\n",
        "\t\tb=int(input(\"Enter second number: \"))\n",
        "\t\tdiv=mm.div(a,b)\n",
        "\t\tprint(f\"Div = {div}\")\n",
        "\telif ch==5:\n",
        "\t\tbreak\n",
        "\telse:\n",
        "\t\tprint(\"Enter a valid choice!!\")"
      ],
      "metadata": {
        "id": "8ogUKyr2ktv1"
      },
      "execution_count": null,
      "outputs": []
    },
    {
      "cell_type": "code",
      "execution_count": null,
      "metadata": {
        "colab": {
          "base_uri": "https://localhost:8080/"
        },
        "id": "5ftjKf6VYbJ6",
        "outputId": "926b876f-5250-46bb-8ee0-643fdd377520"
      },
      "outputs": [
        {
          "output_type": "stream",
          "name": "stdout",
          "text": [
            "2022-08-26\n"
          ]
        }
      ],
      "source": [
        "from datetime import date\n",
        "print(date.today())"
      ]
    },
    {
      "cell_type": "code",
      "source": [
        "import math\n",
        "\n",
        "num=int(input(\"Enter a number: \"))\n",
        "print(f\"Square root of {num} : {math.sqrt(num)}\")"
      ],
      "metadata": {
        "colab": {
          "base_uri": "https://localhost:8080/"
        },
        "id": "6FBrVcM5lAz4",
        "outputId": "e45250a8-8d5d-4dcc-80d3-44a563ceaa6f"
      },
      "execution_count": null,
      "outputs": [
        {
          "output_type": "stream",
          "name": "stdout",
          "text": [
            "Enter a number: 144\n",
            "Square root of 144 : 12.0\n"
          ]
        }
      ]
    }
  ]
}