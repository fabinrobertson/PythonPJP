{
  "nbformat": 4,
  "nbformat_minor": 0,
  "metadata": {
    "colab": {
      "name": "Set.ipynb",
      "provenance": [],
      "collapsed_sections": [],
      "authorship_tag": "ABX9TyMw4+Eg7NZVMyaZx1rntgTL",
      "include_colab_link": true
    },
    "kernelspec": {
      "name": "python3",
      "display_name": "Python 3"
    },
    "language_info": {
      "name": "python"
    }
  },
  "cells": [
    {
      "cell_type": "markdown",
      "metadata": {
        "id": "view-in-github",
        "colab_type": "text"
      },
      "source": [
        "<a href=\"https://colab.research.google.com/github/fabinrobertson/PythonPJP/blob/main/Set.ipynb\" target=\"_parent\"><img src=\"https://colab.research.google.com/assets/colab-badge.svg\" alt=\"Open In Colab\"/></a>"
      ]
    },
    {
      "cell_type": "code",
      "execution_count": null,
      "metadata": {
        "colab": {
          "base_uri": "https://localhost:8080/"
        },
        "id": "6lk4oMC7AWgY",
        "outputId": "095dd31b-49f1-4072-807b-a787d874eb06"
      },
      "outputs": [
        {
          "output_type": "stream",
          "name": "stdout",
          "text": [
            "Enter item to remove: 4\n",
            "i/p:  {1, 2, 3, 4}\n",
            "o/p:  {1, 2, 3}\n"
          ]
        }
      ],
      "source": [
        "mySet={1,2,3,4}\n",
        "item = int(input(\"Enter item to remove: \"))\n",
        "print(\"i/p: \",mySet)\n",
        "if item in mySet:\n",
        "  mySet.remove(item)\n",
        "  print(\"o/p: \",mySet)\n",
        "else:\n",
        "  print(\"item not in set\")"
      ]
    },
    {
      "cell_type": "code",
      "source": [
        "set1={1,2,3}\n",
        "set2={2,3,4}\n",
        "print(f\"set1 = {set1}\\nset2 = {set2}\")\n",
        "set3=set1.intersection(set2)\n",
        "print(\"intersection = \",set3)"
      ],
      "metadata": {
        "colab": {
          "base_uri": "https://localhost:8080/"
        },
        "id": "gavAEjaTG8CN",
        "outputId": "7cff462b-2283-4b3e-ff60-d38d39594c67"
      },
      "execution_count": null,
      "outputs": [
        {
          "output_type": "stream",
          "name": "stdout",
          "text": [
            "set1 = {1, 2, 3}\n",
            "set2 = {2, 3, 4}\n",
            "intersection =  {2, 3}\n"
          ]
        }
      ]
    },
    {
      "cell_type": "code",
      "source": [
        "set1={1,2,3}\n",
        "set2={2,3,4}\n",
        "print(f\"set1 = {set1}\\nset2 = {set2}\")\n",
        "set3=set1.union(set2)\n",
        "print(\"union = \",set3)"
      ],
      "metadata": {
        "colab": {
          "base_uri": "https://localhost:8080/"
        },
        "id": "voEUlpI0HmqE",
        "outputId": "8e880ad3-337d-4cea-8a7c-3bf057816f84"
      },
      "execution_count": null,
      "outputs": [
        {
          "output_type": "stream",
          "name": "stdout",
          "text": [
            "set1 = {1, 2, 3}\n",
            "set2 = {2, 3, 4}\n",
            "union =  {1, 2, 3, 4}\n"
          ]
        }
      ]
    },
    {
      "cell_type": "code",
      "source": [
        "mySet={1,2,3,4,5}\n",
        "min=1000\n",
        "max=0\n",
        "for i in mySet:\n",
        "  if(i<min):\n",
        "    min=i\n",
        "  if(i>max):\n",
        "    max=i\n",
        "print(f\"min={min}\\nmax={max}\")"
      ],
      "metadata": {
        "colab": {
          "base_uri": "https://localhost:8080/"
        },
        "id": "KolsyIxwGqSs",
        "outputId": "b4dc308a-8ec7-4e84-be58-d4f22aaf825a"
      },
      "execution_count": null,
      "outputs": [
        {
          "output_type": "stream",
          "name": "stdout",
          "text": [
            "min=1\n",
            "max=5\n"
          ]
        }
      ]
    }
  ]
}